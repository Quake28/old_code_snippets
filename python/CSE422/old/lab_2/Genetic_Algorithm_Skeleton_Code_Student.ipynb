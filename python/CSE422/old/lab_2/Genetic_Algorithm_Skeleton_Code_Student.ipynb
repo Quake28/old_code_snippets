{
  "cells": [
    {
      "cell_type": "markdown",
      "metadata": {
        "id": "LjGNAQH1OA3l"
      },
      "source": [
        "## CSE422 lab: Genetic Algorithm"
      ]
    },
    {
      "cell_type": "markdown",
      "metadata": {
        "id": "7W2dAmlIEMXj"
      },
      "source": [
        "#### Genetic Algorithm Pseudo code:\n",
        "\n"
      ]
    },
    {
      "cell_type": "markdown",
      "metadata": {
        "id": "gdQcmGl0_jvc"
      },
      "source": [
        "**function** GENETIC-ALGORITHM( population, FITNESS-FN) **returns** an individual \n",
        " \n",
        "> **inputs:** population- a set of individuals/chromosomes; FITNESS-FN- a function that measures the fitness of an individual\n",
        "\n",
        ">**repeat** \n",
        "new_population $\\leftarrow$ empty set \n",
        ">>**for** $i=1$ **to** size ($ population$) **do**\n",
        "$$\n",
        "\\begin{array}{l}\n",
        "x \\leftarrow \\text { RANDOM-SELECTION }(\\text { population, FITNESS-FN }) \\\\\n",
        "y \\leftarrow \\text { RANDOM-SELECTION }(\\text { population, FITNESS-FN }) \\\\\n",
        "child  \\leftarrow \\operatorname{CROSSOVER}(x, y)\n",
        "\\end{array}\n",
        "$$\n",
        ">>>**if** (some_random_number < mutation_threshold) **then** child$\\leftarrow$ MUTATE ( child ) \n",
        "\n",
        ">>>add child to new_population \n",
        "\n",
        ">>population $\\leftarrow$ new_population \n",
        "\n",
        ">**until** some individual is fit enough, or enough time has elapsed\n",
        "\n",
        ">**return** the best individual in population, according to FITNESS-FN\n",
        " \n"
      ]
    },
    {
      "cell_type": "markdown",
      "metadata": {
        "id": "nDkKH11UOHvy"
      },
      "source": [
        "### Skeleton Code:"
      ]
    },
    {
      "cell_type": "markdown",
      "metadata": {
        "id": "Z86D3OcTgZAN"
      },
      "source": [
        "### Importing libraries"
      ]
    },
    {
      "cell_type": "code",
      "execution_count": 111,
      "metadata": {
        "id": "DVUZn7mX25Zj"
      },
      "outputs": [],
      "source": [
        "import numpy as np\n",
        "import math"
      ]
    },
    {
      "cell_type": "markdown",
      "metadata": {
        "id": "FrkwKxS0gUV5"
      },
      "source": [
        "### Fitness function"
      ]
    },
    {
      "cell_type": "code",
      "execution_count": 163,
      "metadata": {
        "id": "CGWWuBT820Uo"
      },
      "outputs": [],
      "source": [
        "def fitness(population, n):\n",
        "\n",
        "    '''calculates the fitness score of each\n",
        "        of the individuals in the population\n",
        "        \n",
        "        returns a 1D numpy array: index referring to \n",
        "        ith individual in population, and value referring \n",
        "        to the fitness score.'''\n",
        "    fitness_result = []\n",
        "    fitness_summation = []\n",
        "    for chromosome in population:\n",
        "        summation = np.sum(chromosome)\n",
        "        fitness_summation.append(summation)\n",
        "    zero_pos=[]\n",
        "    for a in range(len(fitness_summation)):\n",
        "        if fitness_summation==0:\n",
        "            zero_pos.append(a)\n",
        "        else:\n",
        "            x=1/np.absolute(fitness_summation[a])\n",
        "            fitness_result.append(x)\n",
        "    print(np.sum(chromosome))\n",
        "    fitness_result=np.array(fitness_result)\n",
        "    zero_value_probability=(1-np.sum(fitness_result))/len(zero_pos)\n",
        "    for a in zero_pos:\n",
        "        fitness_result[a]=zero_value_probability \n",
        "    \n",
        "    multiplier = 1/np.sum(fitness_result)\n",
        "    for x in range(len(fitness_result)):\n",
        "        fitness_result[x] *= multiplier\n",
        "    return fitness_result"
      ]
    },
    {
      "cell_type": "markdown",
      "metadata": {
        "id": "F-5xhfamezBP"
      },
      "source": [
        "### Random Selection function\n",
        "\n",
        "This built-in function might help to create the weighted random selection:\n",
        "\n",
        "`numpy.random.choice(a, size, replace, p)` \n",
        "\n",
        "`p` are the weights of the individuals- value between 0 and 1; refers to the probability of each individual being selected.\n",
        "\n",
        "`a` is the array\n",
        "\n",
        "`size` how many samples to return\n",
        "\n",
        "`replace = True`"
      ]
    },
    {
      "cell_type": "code",
      "execution_count": 81,
      "metadata": {
        "colab": {
          "base_uri": "https://localhost:8080/",
          "height": 129
        },
        "id": "mCgercZ4_DQ8",
        "outputId": "4d7051c1-9951-4a46-b4f2-413f9673d67c"
      },
      "outputs": [],
      "source": [
        "def select(population, fit):\n",
        "    ''' take input:  population and fit\n",
        "        fit contains fitness values of each of the individuals \n",
        "        in the population  \n",
        "        \n",
        "        return:  one individual randomly giving\n",
        "        more weight to ones which have high fitness score'''\n",
        "    #a = [0,1,2,3,4]\n",
        "    a = [a for a in range(len(population))]\n",
        "    #size = 1\n",
        "    #p = [.31, .29, 0.26, 0.14]\n",
        "    print(fit)\n",
        "    print(population)\n",
        "    selected = np.random.choice(a,len(population),True,fit)\n",
        "    selected = [population[a] for a in selected]\n",
        "    #print(selected)\n",
        "    return selected\n"
      ]
    },
    {
      "cell_type": "markdown",
      "metadata": {
        "id": "ysZu4DVmgshV"
      },
      "source": [
        "### Crossover function\n",
        "\n",
        "\n",
        "**function** CROSSOVER $(x, y)$ **returns** an individual \n",
        "\n",
        ">**inputs**: $x, y$  which are the parent individuals\n",
        "\n",
        ">$n \\leftarrow \\mathrm{LENGTH}(x) ; c \\leftarrow$ random number from 1 to $n$ \n",
        "\n",
        ">**return** APPEND(SUBSTRING $(x, 1, c),$ SUBSTRING $(y, c+1, n))$"
      ]
    },
    {
      "cell_type": "code",
      "execution_count": 158,
      "metadata": {
        "id": "ZtmoFQ9ugwN_"
      },
      "outputs": [],
      "source": [
        "def crossover(x, y):\n",
        "    '''take input: 2 parents - x, y. \n",
        "        Generate a random crossover point. \n",
        "        Append first half of x with second \n",
        "        half of y to create the child\n",
        "        \n",
        "        returns: a child chromosome'''\n",
        "    crossover_point = np.random.randint(2,len(x)-2)\n",
        "    temp_1=np.concatenate((x[0:crossover_point],y[crossover_point:]))\n",
        "    #temp_2=np.concatenate((y[0:crossover_point],x[crossover_point:]))\n",
        "    \n",
        "    \n",
        "    return temp_1"
      ]
    },
    {
      "cell_type": "markdown",
      "metadata": {
        "id": "RJJuuGbyxzho"
      },
      "source": [
        "###Mutation function"
      ]
    },
    {
      "cell_type": "code",
      "execution_count": null,
      "metadata": {
        "id": "zRIG9DXmxzFw"
      },
      "outputs": [],
      "source": [
        "def mutate(child):\n",
        "    '''take input: a child\n",
        "        mutates a random \n",
        "        gene into another random gene\n",
        "        \n",
        "        returns: mutated child'''\n",
        "    \n",
        "\n",
        "    return "
      ]
    },
    {
      "cell_type": "markdown",
      "metadata": {
        "id": "yOPop-7n5WYL"
      },
      "source": [
        "### Genetic Algorithm Function"
      ]
    },
    {
      "cell_type": "code",
      "execution_count": null,
      "metadata": {
        "id": "uw2sfb9nW_yo"
      },
      "outputs": [],
      "source": [
        "def GA(population, n, mutation_threshold = 0.3):\n",
        "    '''implement the pseudocode here by\n",
        "        calling the necessary functions- Fitness, \n",
        "        Selection, Crossover and Mutation\n",
        "        \n",
        "        print: the max fitness value and the \n",
        "        chromosome that generated it which is ultimately \n",
        "        the solution board'''\n",
        "\n",
        "\n",
        "\n",
        "\n",
        "    return"
      ]
    },
    {
      "cell_type": "markdown",
      "metadata": {
        "id": "cHKgDnDKb8mh"
      },
      "source": [
        "Running the Genetic Algorithm function"
      ]
    },
    {
      "cell_type": "code",
      "execution_count": 164,
      "metadata": {
        "id": "01Pz8Q_Jb7qE"
      },
      "outputs": [
        {
          "name": "stdout",
          "output_type": "stream",
          "text": [
            "-3\n",
            "[ 0.  0.  0.  0.  0. nan  0.  0.  0.  0.]\n",
            "[[ 1 -7 -1 -2  7 -1 -1  2]\n",
            " [ 7  4  7  2  5 -3 -4 -8]\n",
            " [ 5 -4  0  6  4 -5  2 -3]\n",
            " [-7  3 -6 -7 -6  3  3  1]\n",
            " [-4  5  0  0  0 -1  0  7]\n",
            " [ 4 -6  7 -2  1  0 -4  0]\n",
            " [-3  7 -4 -8  7 -6  3  2]\n",
            " [ 6 -8 -2  3  4 -2 -4 -1]\n",
            " [ 2 -5  6 -8 -3 -5 -4  4]\n",
            " [ 3  7 -8  5 -4  2 -2 -6]]\n"
          ]
        },
        {
          "name": "stderr",
          "output_type": "stream",
          "text": [
            "C:\\Users\\User\\AppData\\Local\\Temp/ipykernel_11560/565511450.py:20: RuntimeWarning: divide by zero encountered in long_scalars\n",
            "  x=1/np.absolute(fitness_summation[a])\n",
            "C:\\Users\\User\\AppData\\Local\\Temp/ipykernel_11560/565511450.py:30: RuntimeWarning: invalid value encountered in double_scalars\n",
            "  fitness_result[x] *= multiplier\n"
          ]
        },
        {
          "ename": "ValueError",
          "evalue": "probabilities contain NaN",
          "output_type": "error",
          "traceback": [
            "\u001b[1;31m---------------------------------------------------------------------------\u001b[0m",
            "\u001b[1;31mValueError\u001b[0m                                Traceback (most recent call last)",
            "\u001b[1;32m~\\AppData\\Local\\Temp/ipykernel_11560/1660660099.py\u001b[0m in \u001b[0;36m<module>\u001b[1;34m\u001b[0m\n\u001b[0;32m     17\u001b[0m \u001b[1;31m#GA(population, n, mutation_threshold)\u001b[0m\u001b[1;33m\u001b[0m\u001b[1;33m\u001b[0m\u001b[1;33m\u001b[0m\u001b[0m\n\u001b[0;32m     18\u001b[0m \u001b[0mx\u001b[0m\u001b[1;33m=\u001b[0m\u001b[0mfitness\u001b[0m\u001b[1;33m(\u001b[0m\u001b[0mpopulation\u001b[0m\u001b[1;33m,\u001b[0m\u001b[0mlen\u001b[0m\u001b[1;33m(\u001b[0m\u001b[0mpopulation\u001b[0m\u001b[1;33m)\u001b[0m\u001b[1;33m)\u001b[0m\u001b[1;33m\u001b[0m\u001b[1;33m\u001b[0m\u001b[0m\n\u001b[1;32m---> 19\u001b[1;33m \u001b[0my\u001b[0m\u001b[1;33m=\u001b[0m\u001b[0mselect\u001b[0m\u001b[1;33m(\u001b[0m\u001b[0mpopulation\u001b[0m\u001b[1;33m,\u001b[0m\u001b[0mx\u001b[0m\u001b[1;33m)\u001b[0m\u001b[1;33m\u001b[0m\u001b[1;33m\u001b[0m\u001b[0m\n\u001b[0m\u001b[0;32m     20\u001b[0m \u001b[0mz\u001b[0m\u001b[1;33m=\u001b[0m\u001b[0mcrossover\u001b[0m\u001b[1;33m(\u001b[0m\u001b[0my\u001b[0m\u001b[1;33m[\u001b[0m\u001b[1;36m0\u001b[0m\u001b[1;33m]\u001b[0m\u001b[1;33m,\u001b[0m\u001b[0my\u001b[0m\u001b[1;33m[\u001b[0m\u001b[1;36m1\u001b[0m\u001b[1;33m]\u001b[0m\u001b[1;33m)\u001b[0m\u001b[1;33m\u001b[0m\u001b[1;33m\u001b[0m\u001b[0m\n\u001b[0;32m     21\u001b[0m \u001b[0mprint\u001b[0m\u001b[1;33m(\u001b[0m\u001b[0mz\u001b[0m\u001b[1;33m)\u001b[0m\u001b[1;33m\u001b[0m\u001b[1;33m\u001b[0m\u001b[0m\n",
            "\u001b[1;32m~\\AppData\\Local\\Temp/ipykernel_11560/3563560543.py\u001b[0m in \u001b[0;36mselect\u001b[1;34m(population, fit)\u001b[0m\n\u001b[0;32m     12\u001b[0m     \u001b[0mprint\u001b[0m\u001b[1;33m(\u001b[0m\u001b[0mfit\u001b[0m\u001b[1;33m)\u001b[0m\u001b[1;33m\u001b[0m\u001b[1;33m\u001b[0m\u001b[0m\n\u001b[0;32m     13\u001b[0m     \u001b[0mprint\u001b[0m\u001b[1;33m(\u001b[0m\u001b[0mpopulation\u001b[0m\u001b[1;33m)\u001b[0m\u001b[1;33m\u001b[0m\u001b[1;33m\u001b[0m\u001b[0m\n\u001b[1;32m---> 14\u001b[1;33m     \u001b[0mselected\u001b[0m \u001b[1;33m=\u001b[0m \u001b[0mnp\u001b[0m\u001b[1;33m.\u001b[0m\u001b[0mrandom\u001b[0m\u001b[1;33m.\u001b[0m\u001b[0mchoice\u001b[0m\u001b[1;33m(\u001b[0m\u001b[0ma\u001b[0m\u001b[1;33m,\u001b[0m\u001b[0mlen\u001b[0m\u001b[1;33m(\u001b[0m\u001b[0mpopulation\u001b[0m\u001b[1;33m)\u001b[0m\u001b[1;33m,\u001b[0m\u001b[1;32mTrue\u001b[0m\u001b[1;33m,\u001b[0m\u001b[0mfit\u001b[0m\u001b[1;33m)\u001b[0m\u001b[1;33m\u001b[0m\u001b[1;33m\u001b[0m\u001b[0m\n\u001b[0m\u001b[0;32m     15\u001b[0m     \u001b[0mselected\u001b[0m \u001b[1;33m=\u001b[0m \u001b[1;33m[\u001b[0m\u001b[0mpopulation\u001b[0m\u001b[1;33m[\u001b[0m\u001b[0ma\u001b[0m\u001b[1;33m]\u001b[0m \u001b[1;32mfor\u001b[0m \u001b[0ma\u001b[0m \u001b[1;32min\u001b[0m \u001b[0mselected\u001b[0m\u001b[1;33m]\u001b[0m\u001b[1;33m\u001b[0m\u001b[1;33m\u001b[0m\u001b[0m\n\u001b[0;32m     16\u001b[0m     \u001b[1;31m#print(selected)\u001b[0m\u001b[1;33m\u001b[0m\u001b[1;33m\u001b[0m\u001b[1;33m\u001b[0m\u001b[0m\n",
            "\u001b[1;32mmtrand.pyx\u001b[0m in \u001b[0;36mnumpy.random.mtrand.RandomState.choice\u001b[1;34m()\u001b[0m\n",
            "\u001b[1;31mValueError\u001b[0m: probabilities contain NaN"
          ]
        }
      ],
      "source": [
        "'''for 8 queen problem, n = 8'''\n",
        "n = 8\n",
        "\n",
        "'''start_population denotes how many individuals/chromosomes are there\n",
        "  in the initial population n = 8'''\n",
        "start_population = 10 \n",
        "\n",
        "'''if you want you can set mutation_threshold to a higher value,\n",
        "   to increase the chances of mutation'''\n",
        "mutation_threshold = 0.3\n",
        "\n",
        "'''creating the population with random integers between 0 to 7 inclusive\n",
        "   for n = 8 queen problem'''\n",
        "population = np.random.randint(0, 2, (start_population, n))\n",
        "\n",
        "'''calling the GA function'''\n",
        "#GA(population, n, mutation_threshold)\n",
        "x=fitness(population,len(population))\n",
        "y=select(population,x)\n",
        "z=crossover(y[0],y[1])\n",
        "print(z)"
      ]
    }
  ],
  "metadata": {
    "colab": {
      "collapsed_sections": [],
      "name": "Copy of Genetic_Algorithm_Skeleton_Code_Student.ipynb",
      "provenance": []
    },
    "kernelspec": {
      "display_name": "Python 3",
      "name": "python3"
    },
    "language_info": {
      "codemirror_mode": {
        "name": "ipython",
        "version": 3
      },
      "file_extension": ".py",
      "mimetype": "text/x-python",
      "name": "python",
      "nbconvert_exporter": "python",
      "pygments_lexer": "ipython3",
      "version": "3.9.6"
    }
  },
  "nbformat": 4,
  "nbformat_minor": 0
}
